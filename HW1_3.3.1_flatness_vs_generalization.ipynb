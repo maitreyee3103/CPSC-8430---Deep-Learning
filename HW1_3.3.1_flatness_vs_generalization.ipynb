{
 "cells": [
  {
   "cell_type": "code",
   "execution_count": 21,
   "id": "9e9f1e0a",
   "metadata": {},
   "outputs": [],
   "source": [
    "#Import all the required libraries\n",
    "import os\n",
    "import torch\n",
    "import numpy as np\n",
    "import torch.nn as nn\n",
    "import torch.optim as optim\n",
    "import torch.nn.functional as F\n",
    "import matplotlib.pyplot as plt\n",
    "from torch.autograd import Variable\n",
    "from torchvision import datasets, transforms"
   ]
  },
  {
   "cell_type": "code",
   "execution_count": 22,
   "id": "ac7a1fa8",
   "metadata": {},
   "outputs": [],
   "source": [
    "torch.manual_seed(1)\n",
    "os.environ['KMP_DUPLICATE_LIB_OK']='True'"
   ]
  },
  {
   "cell_type": "code",
   "execution_count": 23,
   "id": "f99db196",
   "metadata": {},
   "outputs": [],
   "source": [
    "#Define the load data function\n",
    "def data_loader(train_batch_size, test_batch_size):\n",
    "    train_data = torch.utils.data.DataLoader(\n",
    "        datasets.MNIST('data', train = True, download=True,\n",
    "                       transform=transforms.Compose([\n",
    "                           transforms.Resize((32, 32)),\n",
    "                           transforms.ToTensor()\n",
    "                       ])),\n",
    "        batch_size = train_batch_size, shuffle=True)\n",
    "\n",
    "    test_data = torch.utils.data.DataLoader(\n",
    "        datasets.MNIST('data', train = False, transform=transforms.Compose([\n",
    "            transforms.Resize((32, 32)),\n",
    "            transforms.ToTensor()\n",
    "        ])),\n",
    "        batch_size = test_batch_size, shuffle=True)\n",
    "\n",
    "    return (train_data, test_data)"
   ]
  },
  {
   "cell_type": "code",
   "execution_count": 24,
   "id": "fdb0fe49",
   "metadata": {},
   "outputs": [],
   "source": [
    "class Model(nn.Module):\n",
    "    def __init__(self):\n",
    "        super(Model, self).__init__()\n",
    "        \n",
    "        self.c1 = nn.Conv2d(1, 6, 5)\n",
    "        self.c2 = nn.Conv2d(6, 16, 5)\n",
    "        self.l1 = nn.Linear(16 * 5 * 5, 120)\n",
    "        self.l2 = nn.Linear(120, 84)\n",
    "        self.l3 = nn.Linear(84, 10)\n",
    "\n",
    "    def forward(self, x):\n",
    "        x = F.max_pool2d(F.relu(self.c1(x)), 2)\n",
    "        x = F.max_pool2d(F.relu(self.c2(x)), 2)\n",
    "\n",
    "        x = x.view(x.size()[0], -1)\n",
    "        x = F.relu(self.l1(x))\n",
    "        x = F.relu(self.l2(x))\n",
    "\n",
    "        x = self.l3(x)\n",
    "        return x"
   ]
  },
  {
   "cell_type": "code",
   "execution_count": 25,
   "id": "30ccee3b",
   "metadata": {},
   "outputs": [],
   "source": [
    "def calculate_parameters(modelName, model):\n",
    "    param = sum(p.numel() for p in model.parameters())\n",
    "    print('{}: {}'.format(modelName, param))\n",
    "    return param"
   ]
  },
  {
   "cell_type": "code",
   "execution_count": 26,
   "id": "833bc968",
   "metadata": {},
   "outputs": [],
   "source": [
    "def init_optimizer(model):\n",
    "    return optim.SGD(model.parameters(), lr=1e-2, momentum=0.9, nesterov=True)"
   ]
  },
  {
   "cell_type": "code",
   "execution_count": 27,
   "id": "2f873074",
   "metadata": {},
   "outputs": [],
   "source": [
    "def train(model, optimizer, data):\n",
    "    model.train()\n",
    "    for batch_idx, (data, target) in enumerate(data):\n",
    "        data, target = Variable(data), Variable(target)\n",
    "        optimizer.zero_grad()\n",
    "\n",
    "        output = model(data)\n",
    "        loss_fn = torch.nn.CrossEntropyLoss()\n",
    "        loss = loss_fn(output, target)\n",
    "        loss.backward()\n",
    "        optimizer.step()"
   ]
  },
  {
   "cell_type": "code",
   "execution_count": 28,
   "id": "af64b748",
   "metadata": {},
   "outputs": [],
   "source": [
    "def calculate_ip_op_diff(model, loader):\n",
    "    correct = 0\n",
    "    total = 0\n",
    "    costTotal = 0\n",
    "    costCounter = 0\n",
    "    loss_fn = torch.nn.CrossEntropyLoss()\n",
    "    with torch.no_grad():\n",
    "        for batch in loader:\n",
    "            data, target = batch\n",
    "            output = model(data)\n",
    "            cost = loss_fn(output, target)\n",
    "            costTotal += cost\n",
    "            costCounter += 1\n",
    "            for i, outputTensor in enumerate(output):\n",
    "                if torch.argmax(outputTensor) == target[i]:\n",
    "                    correct += 1\n",
    "                total += 1\n",
    "    return costTotal / costCounter, round(correct/total, 3)"
   ]
  },
  {
   "cell_type": "code",
   "execution_count": 29,
   "id": "d1be4cb2",
   "metadata": {},
   "outputs": [],
   "source": [
    "epochs=28\n",
    "\n",
    "def train_models(model, optimizer, train_data, test_data):\n",
    "    param_arr = []\n",
    "    train_loss_arr = []\n",
    "    test_loss_arr = []\n",
    "    train_accuracy_arr = []\n",
    "    test_accuracy_arr = []\n",
    "    total_train_loss = 0\n",
    "    for epoch in range(1, epochs + 1):\n",
    "        train(model, optimizer, train_data)\n",
    "        train_loss, train_acc = calculate_ip_op_diff(model, train_data)\n",
    "        test_loss, test_acc = calculate_ip_op_diff(model, test_data)\n",
    "\n",
    "        train_loss_arr.append(train_loss)\n",
    "        test_loss_arr.append(test_loss)\n",
    "        train_accuracy_arr.append(train_acc)\n",
    "        test_accuracy_arr.append(test_acc)\n",
    "        print('test loss - ', test_loss, ' epoch - ', epoch)\n",
    "    return train_loss_arr, test_loss_arr, train_accuracy_arr, test_accuracy_arr, param_arr"
   ]
  },
  {
   "cell_type": "code",
   "execution_count": 30,
   "id": "7983c456",
   "metadata": {},
   "outputs": [
    {
     "name": "stdout",
     "output_type": "stream",
     "text": [
      "Training model \n",
      "test loss -  tensor(0.0860)  epoch -  1\n",
      "test loss -  tensor(0.0827)  epoch -  2\n",
      "test loss -  tensor(0.0532)  epoch -  3\n",
      "test loss -  tensor(0.0431)  epoch -  4\n",
      "test loss -  tensor(0.0414)  epoch -  5\n",
      "test loss -  tensor(0.0359)  epoch -  6\n",
      "test loss -  tensor(0.0353)  epoch -  7\n",
      "test loss -  tensor(0.0371)  epoch -  8\n",
      "test loss -  tensor(0.0340)  epoch -  9\n",
      "test loss -  tensor(0.0316)  epoch -  10\n",
      "test loss -  tensor(0.0345)  epoch -  11\n",
      "test loss -  tensor(0.0332)  epoch -  12\n",
      "test loss -  tensor(0.0390)  epoch -  13\n",
      "test loss -  tensor(0.0486)  epoch -  14\n",
      "test loss -  tensor(0.0354)  epoch -  15\n",
      "test loss -  tensor(0.0449)  epoch -  16\n",
      "test loss -  tensor(0.0417)  epoch -  17\n",
      "test loss -  tensor(0.0452)  epoch -  18\n",
      "test loss -  tensor(0.0372)  epoch -  19\n",
      "test loss -  tensor(0.0398)  epoch -  20\n",
      "test loss -  tensor(0.0384)  epoch -  21\n",
      "test loss -  tensor(0.0442)  epoch -  22\n",
      "test loss -  tensor(0.0404)  epoch -  23\n",
      "test loss -  tensor(0.0447)  epoch -  24\n",
      "test loss -  tensor(0.0399)  epoch -  25\n",
      "test loss -  tensor(0.0484)  epoch -  26\n",
      "test loss -  tensor(0.0434)  epoch -  27\n",
      "test loss -  tensor(0.0389)  epoch -  28\n",
      "Training completed..\n"
     ]
    }
   ],
   "source": [
    "train_data, test_data = data_loader(75, 75)\n",
    "\n",
    "model_1 = Model()\n",
    "optimizer = init_optimizer(model_1)\n",
    "train_loss_arr_b1, test_loss_arr_b1, train_accuracy_arr_b1, test_accuracy_arr_b1, param_arr_b1 = train_models(model_1, optimizer, train_data, test_data)"
   ]
  },
  {
   "cell_type": "code",
   "execution_count": 31,
   "id": "73b6f670",
   "metadata": {},
   "outputs": [
    {
     "name": "stdout",
     "output_type": "stream",
     "text": [
      "Training model \n",
      "test loss -  tensor(1.2970)  epoch -  1\n",
      "test loss -  tensor(0.1895)  epoch -  2\n",
      "test loss -  tensor(0.1181)  epoch -  3\n",
      "test loss -  tensor(0.0979)  epoch -  4\n",
      "test loss -  tensor(0.0841)  epoch -  5\n",
      "test loss -  tensor(0.0696)  epoch -  6\n",
      "test loss -  tensor(0.0631)  epoch -  7\n",
      "test loss -  tensor(0.0553)  epoch -  8\n",
      "test loss -  tensor(0.0514)  epoch -  9\n",
      "test loss -  tensor(0.0525)  epoch -  10\n",
      "test loss -  tensor(0.0474)  epoch -  11\n",
      "test loss -  tensor(0.0474)  epoch -  12\n",
      "test loss -  tensor(0.0461)  epoch -  13\n",
      "test loss -  tensor(0.0469)  epoch -  14\n",
      "test loss -  tensor(0.0407)  epoch -  15\n",
      "test loss -  tensor(0.0429)  epoch -  16\n",
      "test loss -  tensor(0.0405)  epoch -  17\n",
      "test loss -  tensor(0.0398)  epoch -  18\n",
      "test loss -  tensor(0.0394)  epoch -  19\n",
      "test loss -  tensor(0.0362)  epoch -  20\n",
      "test loss -  tensor(0.0361)  epoch -  21\n",
      "test loss -  tensor(0.0372)  epoch -  22\n",
      "test loss -  tensor(0.0360)  epoch -  23\n",
      "test loss -  tensor(0.0469)  epoch -  24\n",
      "test loss -  tensor(0.0393)  epoch -  25\n",
      "test loss -  tensor(0.0385)  epoch -  26\n",
      "test loss -  tensor(0.0393)  epoch -  27\n",
      "test loss -  tensor(0.0365)  epoch -  28\n",
      "Training completed..\n"
     ]
    }
   ],
   "source": [
    "train_data, test_data = data_loader(500, 500)\n",
    "\n",
    "model_2 = Model()\n",
    "optimizer = init_optimizer(model_2)\n",
    "train_loss_arr_b2, test_loss_arr_b2, train_accuracy_arr_b2, test_accuracy_arr_b2, param_arr_b2 = train_models(model_2, optimizer, train_data, test_data)"
   ]
  },
  {
   "cell_type": "code",
   "execution_count": 32,
   "id": "bf9f4fbf",
   "metadata": {},
   "outputs": [],
   "source": [
    "param_b1 = torch.nn.utils.parameters_to_vector(model_1.parameters())\n",
    "param_b2 = torch.nn.utils.parameters_to_vector(model_2.parameters())"
   ]
  },
  {
   "cell_type": "code",
   "execution_count": 38,
   "id": "7f909f04",
   "metadata": {},
   "outputs": [
    {
     "data": {
      "image/png": "[encoded data removed]",
      "text/plain": [
       "<Figure size 864x432 with 1 Axes>"
      ]
     },
     "metadata": {
      "needs_background": "light"
     },
     "output_type": "display_data"
    }
   ],
   "source": [
    "plt.figure(figsize=(12,6))\n",
    "plt.plot(np.arange(0, 28, 1), train_loss_arr_b1, color = \"blue\")\n",
    "plt.plot(np.arange(0, 28, 1), train_loss_arr_b2, color = \"green\")\n",
    "plt.title('Model Loss Comparison')\n",
    "plt.legend(['Batch size = 75', 'Batch size = 500'])\n",
    "plt.xlabel('Epoch')\n",
    "plt.ylabel('Loss')\n",
    "plt.show()"
   ]
  },
  {
   "cell_type": "code",
   "execution_count": 37,
   "id": "dc438cae",
   "metadata": {},
   "outputs": [
    {
     "data": {
      "image/png": "[encoded data removed]",
      "text/plain": [
       "<Figure size 864x432 with 1 Axes>"
      ]
     },
     "metadata": {
      "needs_background": "light"
     },
     "output_type": "display_data"
    }
   ],
   "source": [
    "plt.figure(figsize=(12,6))\n",
    "plt.plot(np.arange(0, 28, 1), test_accuracy_arr_b1, color = \"blue\")\n",
    "plt.plot(np.arange(0, 28, 1), test_accuracy_arr_b2, color = \"green\")\n",
    "plt.title('Model Accuracy Comparison')\n",
    "plt.legend(['Batch size = 75', 'Batch size = 500'])\n",
    "plt.xlabel('Epoch')\n",
    "plt.ylabel('Accuracy')\n",
    "plt.show()"
   ]
  },
  {
   "cell_type": "code",
   "execution_count": null,
   "id": "29ae66e9",
   "metadata": {},
   "outputs": [],
   "source": []
  }
 ],
 "metadata": {
  "kernelspec": {
   "display_name": "Python 3",
   "language": "python",
   "name": "python3"
  },
  "language_info": {
   "codemirror_mode": {
    "name": "ipython",
    "version": 3
   },
   "file_extension": ".py",
   "mimetype": "text/x-python",
   "name": "python",
   "nbconvert_exporter": "python",
   "pygments_lexer": "ipython3",
   "version": "3.8.8"
  }
 },
 "nbformat": 4,
 "nbformat_minor": 5
}
