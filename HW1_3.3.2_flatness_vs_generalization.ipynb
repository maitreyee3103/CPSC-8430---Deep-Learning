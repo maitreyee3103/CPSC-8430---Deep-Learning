{
 "cells": [
  {
   "cell_type": "code",
   "execution_count": 1,
   "id": "24b6220e",
   "metadata": {},
   "outputs": [],
   "source": [
    "#Import all the required libraries\n",
    "import os\n",
    "import torch\n",
    "import numpy as np\n",
    "import torch.nn as nn\n",
    "import torch.optim as optim\n",
    "import torch.nn.functional as F\n",
    "import matplotlib.pyplot as plt\n",
    "from torch.autograd import Variable\n",
    "from torchvision import datasets, transforms"
   ]
  },
  {
   "cell_type": "code",
   "execution_count": 2,
   "id": "3879cfdf",
   "metadata": {},
   "outputs": [],
   "source": [
    "torch.manual_seed(1)\n",
    "os.environ['KMP_DUPLICATE_LIB_OK']='True'"
   ]
  },
  {
   "cell_type": "code",
   "execution_count": 15,
   "id": "6c60fd09",
   "metadata": {},
   "outputs": [],
   "source": [
    "#Define the load data function\n",
    "def data_loader(train_batch_size, test_batch_size):\n",
    "    train_data = torch.utils.data.DataLoader(\n",
    "        datasets.MNIST('data', train = True, download=True,\n",
    "                       transform=transforms.Compose([\n",
    "                           transforms.Resize((32, 32)),\n",
    "                           transforms.ToTensor()\n",
    "                       ])),\n",
    "        batch_size = train_batch_size, shuffle=True)\n",
    "\n",
    "    test_data = torch.utils.data.DataLoader(\n",
    "        datasets.MNIST('data', train = False, transform=transforms.Compose([\n",
    "            transforms.Resize((32, 32)),\n",
    "            transforms.ToTensor()\n",
    "        ])),\n",
    "        batch_size = test_batch_size, shuffle=True)\n",
    "\n",
    "    return (train_data, test_data)"
   ]
  },
  {
   "cell_type": "markdown",
   "id": "c14d3b67",
   "metadata": {},
   "source": [
    "MODEL DEFINITION"
   ]
  },
  {
   "cell_type": "code",
   "execution_count": 4,
   "id": "eb91d91c",
   "metadata": {},
   "outputs": [],
   "source": [
    "#Define the model\n",
    "class Model(nn.Module):\n",
    "    def __init__(self):\n",
    "        super(Model, self).__init__()\n",
    "        \n",
    "        self.c1 = nn.Conv2d(1, 6, 5)\n",
    "        self.c2 = nn.Conv2d(6, 16, 5)\n",
    "        self.l1 = nn.Linear(16 * 5 * 5, 120)\n",
    "        self.l2 = nn.Linear(120, 84)\n",
    "        self.l3 = nn.Linear(84, 10)\n",
    "\n",
    "    def forward(self, x):\n",
    "        x = F.max_pool2d(F.relu(self.c1(x)), 2)\n",
    "        x = F.max_pool2d(F.relu(self.c2(x)), 2)\n",
    "\n",
    "        x = x.view(x.size()[0], -1)\n",
    "        x = F.relu(self.l1(x))\n",
    "        x = F.relu(self.l2(x))\n",
    "\n",
    "        x = self.l3(x)\n",
    "        return x"
   ]
  },
  {
   "cell_type": "code",
   "execution_count": 5,
   "id": "65cfc5fe",
   "metadata": {},
   "outputs": [],
   "source": [
    "#Define the function to calculate the parameters\n",
    "def calculate_parameters(modelName, model):\n",
    "    param = sum(p.numel() for p in model.parameters())\n",
    "    print('{}: {}'.format(modelName, param))\n",
    "    return param"
   ]
  },
  {
   "cell_type": "code",
   "execution_count": 6,
   "id": "bb35a973",
   "metadata": {},
   "outputs": [],
   "source": [
    "def init_optimizer(model):\n",
    "    return optim.SGD(model.parameters(), lr=1e-3, momentum=0.9, nesterov=True)"
   ]
  },
  {
   "cell_type": "code",
   "execution_count": 7,
   "id": "45b0c887",
   "metadata": {},
   "outputs": [],
   "source": [
    "#Define the training function\n",
    "def train(model, optimizer, data):\n",
    "    model.train()\n",
    "    for batch_idx, (data, target) in enumerate(data):\n",
    "        data, target = Variable(data), Variable(target)\n",
    "        optimizer.zero_grad()\n",
    "\n",
    "        output = model(data)\n",
    "        loss_fn = torch.nn.CrossEntropyLoss()\n",
    "        loss = loss_fn(output, target)\n",
    "        loss.backward()\n",
    "        optimizer.step()"
   ]
  },
  {
   "cell_type": "code",
   "execution_count": 16,
   "id": "66636895",
   "metadata": {},
   "outputs": [],
   "source": [
    "def calculate_ip_op_diff(model, loader):\n",
    "    correct = 0\n",
    "    total = 0\n",
    "    costTotal = 0\n",
    "    costCounter = 0\n",
    "    loss_fn = torch.nn.CrossEntropyLoss()\n",
    "    with torch.no_grad():\n",
    "        for batch in loader:\n",
    "            data, target = batch\n",
    "            output = model(data)\n",
    "            cost = loss_fn(output, target)\n",
    "            costTotal += cost\n",
    "            costCounter += 1\n",
    "            for i, outputTensor in enumerate(output):\n",
    "                if torch.argmax(outputTensor) == target[i]:\n",
    "                    correct += 1\n",
    "                total += 1\n",
    "    return costTotal / costCounter, round(correct/total, 3)"
   ]
  },
  {
   "cell_type": "markdown",
   "id": "7724b32d",
   "metadata": {},
   "source": [
    "TRAIN THE MODEL"
   ]
  },
  {
   "cell_type": "code",
   "execution_count": 9,
   "id": "8e754899",
   "metadata": {},
   "outputs": [],
   "source": [
    "epochs=28\n",
    "\n",
    "def train_models(model, optimizer, train_data, test_data):\n",
    "    param_arr = []\n",
    "    train_loss_arr = []\n",
    "    test_loss_arr = []\n",
    "    train_accuracy_arr = []\n",
    "    test_accuracy_arr = []\n",
    "    total_train_loss = 0\n",
    "    for epoch in range(1, epochs + 1):\n",
    "        train(model, optimizer, train_data)\n",
    "        train_loss, train_acc = calculate_ip_op_diff(model, train_data)\n",
    "        test_loss, test_acc = calculate_ip_op_diff(model, test_data)\n",
    "\n",
    "        train_loss_arr.append(train_loss)\n",
    "        test_loss_arr.append(test_loss)\n",
    "        train_accuracy_arr.append(train_acc)\n",
    "        test_accuracy_arr.append(test_acc)\n",
    "        print('Test loss - ', test_loss, ' Epoch - ', epoch)\n",
    "    return train_loss_arr, test_loss_arr, train_accuracy_arr, test_accuracy_arr, param_arr"
   ]
  },
  {
   "cell_type": "code",
   "execution_count": 10,
   "id": "b2862ed1",
   "metadata": {},
   "outputs": [
    {
     "name": "stdout",
     "output_type": "stream",
     "text": [
      "Test loss -  tensor(1.3894)  Epoch -  1\n",
      "Test loss -  tensor(0.2985)  Epoch -  2\n",
      "Test loss -  tensor(0.1942)  Epoch -  3\n",
      "Test loss -  tensor(0.1315)  Epoch -  4\n",
      "Test loss -  tensor(0.1090)  Epoch -  5\n",
      "Test loss -  tensor(0.0962)  Epoch -  6\n",
      "Test loss -  tensor(0.0835)  Epoch -  7\n",
      "Test loss -  tensor(0.0837)  Epoch -  8\n",
      "Test loss -  tensor(0.0728)  Epoch -  9\n",
      "Test loss -  tensor(0.0715)  Epoch -  10\n",
      "Test loss -  tensor(0.0588)  Epoch -  11\n",
      "Test loss -  tensor(0.0611)  Epoch -  12\n",
      "Test loss -  tensor(0.0568)  Epoch -  13\n",
      "Test loss -  tensor(0.0581)  Epoch -  14\n",
      "Test loss -  tensor(0.0529)  Epoch -  15\n",
      "Test loss -  tensor(0.0583)  Epoch -  16\n",
      "Test loss -  tensor(0.0458)  Epoch -  17\n",
      "Test loss -  tensor(0.0481)  Epoch -  18\n",
      "Test loss -  tensor(0.0469)  Epoch -  19\n",
      "Test loss -  tensor(0.0521)  Epoch -  20\n",
      "Test loss -  tensor(0.0437)  Epoch -  21\n",
      "Test loss -  tensor(0.0469)  Epoch -  22\n",
      "Test loss -  tensor(0.0408)  Epoch -  23\n",
      "Test loss -  tensor(0.0436)  Epoch -  24\n",
      "Test loss -  tensor(0.0433)  Epoch -  25\n",
      "Test loss -  tensor(0.0410)  Epoch -  26\n",
      "Test loss -  tensor(0.0436)  Epoch -  27\n",
      "Test loss -  tensor(0.0441)  Epoch -  28\n"
     ]
    }
   ],
   "source": [
    "train_data, test_data = data_loader(75, 75)\n",
    "\n",
    "model_1 = Model()\n",
    "optimizer = init_optimizer(model_1)\n",
    "train_loss_arr_b1, test_loss_arr_b1, train_accuracy_arr_b1, test_accuracy_arr_b1, param_arr_b1 = train_models(model_1, optimizer, train_data, test_data)"
   ]
  },
  {
   "cell_type": "code",
   "execution_count": 11,
   "id": "545a4747",
   "metadata": {},
   "outputs": [
    {
     "name": "stdout",
     "output_type": "stream",
     "text": [
      "Test loss -  tensor(2.2989)  Epoch -  1\n",
      "Test loss -  tensor(2.2910)  Epoch -  2\n",
      "Test loss -  tensor(2.2766)  Epoch -  3\n",
      "Test loss -  tensor(2.2412)  Epoch -  4\n",
      "Test loss -  tensor(2.0890)  Epoch -  5\n",
      "Test loss -  tensor(1.1765)  Epoch -  6\n",
      "Test loss -  tensor(0.5632)  Epoch -  7\n",
      "Test loss -  tensor(0.4264)  Epoch -  8\n",
      "Test loss -  tensor(0.3577)  Epoch -  9\n",
      "Test loss -  tensor(0.3138)  Epoch -  10\n",
      "Test loss -  tensor(0.2832)  Epoch -  11\n",
      "Test loss -  tensor(0.2628)  Epoch -  12\n",
      "Test loss -  tensor(0.2418)  Epoch -  13\n",
      "Test loss -  tensor(0.2238)  Epoch -  14\n",
      "Test loss -  tensor(0.2148)  Epoch -  15\n",
      "Test loss -  tensor(0.1948)  Epoch -  16\n",
      "Test loss -  tensor(0.1832)  Epoch -  17\n",
      "Test loss -  tensor(0.1751)  Epoch -  18\n",
      "Test loss -  tensor(0.1636)  Epoch -  19\n",
      "Test loss -  tensor(0.1556)  Epoch -  20\n",
      "Test loss -  tensor(0.1506)  Epoch -  21\n",
      "Test loss -  tensor(0.1398)  Epoch -  22\n",
      "Test loss -  tensor(0.1335)  Epoch -  23\n",
      "Test loss -  tensor(0.1297)  Epoch -  24\n",
      "Test loss -  tensor(0.1245)  Epoch -  25\n",
      "Test loss -  tensor(0.1193)  Epoch -  26\n",
      "Test loss -  tensor(0.1128)  Epoch -  27\n",
      "Test loss -  tensor(0.1102)  Epoch -  28\n"
     ]
    }
   ],
   "source": [
    "train_data, test_data = data_loader(500, 500)\n",
    "\n",
    "model_2 = Model()\n",
    "optimizer = init_optimizer(model_2)\n",
    "train_loss_arr_b2, test_loss_arr_b2, train_accuracy_arr_b2, test_accuracy_arr_b2, param_arr_b2 = train_models(model_2, optimizer, train_data, test_data)"
   ]
  },
  {
   "cell_type": "code",
   "execution_count": 17,
   "id": "89911764",
   "metadata": {},
   "outputs": [],
   "source": [
    "param_b1 = torch.nn.utils.parameters_to_vector(model_1.parameters())\n",
    "param_b2 = torch.nn.utils.parameters_to_vector(model_2.parameters())"
   ]
  },
  {
   "cell_type": "markdown",
   "id": "86a94bde",
   "metadata": {},
   "source": [
    "PLOT FOR MODEL LOSS"
   ]
  },
  {
   "cell_type": "code",
   "execution_count": 19,
   "id": "4202d178",
   "metadata": {},
   "outputs": [
    {
     "data": {
      "image/png": "[encoded data removed]",
      "text/plain": [
       "<Figure size 864x432 with 1 Axes>"
      ]
     },
     "metadata": {
      "needs_background": "light"
     },
     "output_type": "display_data"
    }
   ],
   "source": [
    "#Plot the graph for model loss\n",
    "plt.figure(figsize=(12,6))\n",
    "plt.plot(np.arange(0, 28, 1), train_loss_arr_b1, color = \"green\")\n",
    "plt.plot(np.arange(0, 28, 1), train_loss_arr_b2, color = \"blue\")\n",
    "plt.title('Model Loss Comparison')\n",
    "plt.legend(['Batch size = 75', 'Batch size = 500'])\n",
    "plt.xlabel('Epoch')\n",
    "plt.ylabel('Loss')\n",
    "plt.show()"
   ]
  },
  {
   "cell_type": "markdown",
   "id": "47630ff4",
   "metadata": {},
   "source": [
    "PLOT FOR MODEL ACCURACY"
   ]
  },
  {
   "cell_type": "code",
   "execution_count": 20,
   "id": "04ae9421",
   "metadata": {},
   "outputs": [
    {
     "data": {
      "image/png": "[encoded data removed]",
      "text/plain": [
       "<Figure size 864x432 with 1 Axes>"
      ]
     },
     "metadata": {
      "needs_background": "light"
     },
     "output_type": "display_data"
    }
   ],
   "source": [
    "#Plot the graph for model accuracy\n",
    "plt.figure(figsize=(12,6))\n",
    "plt.plot(np.arange(0, 28, 1), test_accuracy_arr_b1, color = \"green\")\n",
    "plt.plot(np.arange(0, 28, 1), test_accuracy_arr_b2, color = \"blue\")\n",
    "plt.title('Model Accuracy Comparison')\n",
    "plt.legend(['Batch size = 75', 'Batch size = 500'])\n",
    "plt.xlabel('Epoch')\n",
    "plt.ylabel('Accuracy')\n",
    "plt.show()"
   ]
  },
  {
   "cell_type": "code",
   "execution_count": null,
   "id": "02bdb67f",
   "metadata": {},
   "outputs": [],
   "source": []
  }
 ],
 "metadata": {
  "kernelspec": {
   "display_name": "Python 3",
   "language": "python",
   "name": "python3"
  },
  "language_info": {
   "codemirror_mode": {
    "name": "ipython",
    "version": 3
   },
   "file_extension": ".py",
   "mimetype": "text/x-python",
   "name": "python",
   "nbconvert_exporter": "python",
   "pygments_lexer": "ipython3",
   "version": "3.8.8"
  }
 },
 "nbformat": 4,
 "nbformat_minor": 5
}
